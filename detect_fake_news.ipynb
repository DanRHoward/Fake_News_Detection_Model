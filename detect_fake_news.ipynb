{
 "cells": [
  {
   "attachments": {},
   "cell_type": "markdown",
   "metadata": {},
   "source": [
    "# FAKE NEWS DETECTION MODEL\n",
    "\n",
    "### Loading Dataset from .csv file\n",
    "\n",
    "The following project was inspired by *kaggle.com*, and the dataset used for modelling was from their website. Our original dataset, *original_news.csv*, contains 4 columns. These columns consist of an ***ID*** number, the ***title*** of the new article, the ***text*** of the whole article and the target ***label*** for modelling purposed. We will proceed with the importing of the appropriate packages."
   ]
  },
  {
   "cell_type": "code",
   "execution_count": 234,
   "metadata": {},
   "outputs": [],
   "source": [
    "import pandas as pd\n",
    "import numpy as np\n",
    "import matplotlib\n",
    "import matplotlib.pyplot as pyplot\n",
    "from transformers import AutoTokenizer, AutoModelForSequenceClassification\n",
    "import torch"
   ]
  },
  {
   "attachments": {},
   "cell_type": "markdown",
   "metadata": {},
   "source": [
    "Next, we shall now load the original dataset into python. The head of the pandas dataset is presented below. "
   ]
  },
  {
   "cell_type": "code",
   "execution_count": 123,
   "metadata": {},
   "outputs": [
    {
     "data": {
      "text/html": [
       "<div>\n",
       "<style scoped>\n",
       "    .dataframe tbody tr th:only-of-type {\n",
       "        vertical-align: middle;\n",
       "    }\n",
       "\n",
       "    .dataframe tbody tr th {\n",
       "        vertical-align: top;\n",
       "    }\n",
       "\n",
       "    .dataframe thead th {\n",
       "        text-align: right;\n",
       "    }\n",
       "</style>\n",
       "<table border=\"1\" class=\"dataframe\">\n",
       "  <thead>\n",
       "    <tr style=\"text-align: right;\">\n",
       "      <th></th>\n",
       "      <th>Unnamed: 0</th>\n",
       "      <th>title</th>\n",
       "      <th>text</th>\n",
       "      <th>label</th>\n",
       "    </tr>\n",
       "  </thead>\n",
       "  <tbody>\n",
       "    <tr>\n",
       "      <th>0</th>\n",
       "      <td>8476</td>\n",
       "      <td>You Can Smell Hillary’s Fear</td>\n",
       "      <td>Daniel Greenfield, a Shillman Journalism Fello...</td>\n",
       "      <td>FAKE</td>\n",
       "    </tr>\n",
       "    <tr>\n",
       "      <th>1</th>\n",
       "      <td>10294</td>\n",
       "      <td>Watch The Exact Moment Paul Ryan Committed Pol...</td>\n",
       "      <td>Google Pinterest Digg Linkedin Reddit Stumbleu...</td>\n",
       "      <td>FAKE</td>\n",
       "    </tr>\n",
       "    <tr>\n",
       "      <th>2</th>\n",
       "      <td>3608</td>\n",
       "      <td>Kerry to go to Paris in gesture of sympathy</td>\n",
       "      <td>U.S. Secretary of State John F. Kerry said Mon...</td>\n",
       "      <td>REAL</td>\n",
       "    </tr>\n",
       "    <tr>\n",
       "      <th>3</th>\n",
       "      <td>10142</td>\n",
       "      <td>Bernie supporters on Twitter erupt in anger ag...</td>\n",
       "      <td>— Kaydee King (@KaydeeKing) November 9, 2016 T...</td>\n",
       "      <td>FAKE</td>\n",
       "    </tr>\n",
       "    <tr>\n",
       "      <th>4</th>\n",
       "      <td>875</td>\n",
       "      <td>The Battle of New York: Why This Primary Matters</td>\n",
       "      <td>It's primary day in New York and front-runners...</td>\n",
       "      <td>REAL</td>\n",
       "    </tr>\n",
       "  </tbody>\n",
       "</table>\n",
       "</div>"
      ],
      "text/plain": [
       "   Unnamed: 0                                              title  \\\n",
       "0        8476                       You Can Smell Hillary’s Fear   \n",
       "1       10294  Watch The Exact Moment Paul Ryan Committed Pol...   \n",
       "2        3608        Kerry to go to Paris in gesture of sympathy   \n",
       "3       10142  Bernie supporters on Twitter erupt in anger ag...   \n",
       "4         875   The Battle of New York: Why This Primary Matters   \n",
       "\n",
       "                                                text label  \n",
       "0  Daniel Greenfield, a Shillman Journalism Fello...  FAKE  \n",
       "1  Google Pinterest Digg Linkedin Reddit Stumbleu...  FAKE  \n",
       "2  U.S. Secretary of State John F. Kerry said Mon...  REAL  \n",
       "3  — Kaydee King (@KaydeeKing) November 9, 2016 T...  FAKE  \n",
       "4  It's primary day in New York and front-runners...  REAL  "
      ]
     },
     "metadata": {},
     "output_type": "display_data"
    }
   ],
   "source": [
    "dataset = pd.read_csv('original_news.csv') #create pandas dataframe using .csv file\n",
    "display(dataset.head()) #display top 5 entries"
   ]
  },
  {
   "attachments": {},
   "cell_type": "markdown",
   "metadata": {},
   "source": [
    "Before we proceed, we must ensure that all duplicates are removes from the dataset. On the *kaggle* website, where I obtained the dataset, the page corresponding to this data contained a brief summary of the whole dataset. Viewing this I discovered that multiple datapoints existed with identical values. In order to avoid the possibility of oversaturating out predictive models with multiple datapoint of identical values, we must remove them. Once this simply bit of data cleaning is finished, we may proceed to explore our data. The number of duplicate data points removed is 29."
   ]
  },
  {
   "cell_type": "code",
   "execution_count": 135,
   "metadata": {},
   "outputs": [],
   "source": [
    "dataset = dataset.drop_duplicates(subset = ['title','text']) #remove duplicates if they share the same values for 'title' AND 'text'"
   ]
  },
  {
   "attachments": {},
   "cell_type": "markdown",
   "metadata": {},
   "source": [
    "## Exploratory Data Analysis\n",
    "\n",
    "To further expand the search for possible correlations to create a more reliable predictive model for this project, we shall introduce some more metrics for each item in our dataframe. We shall introduce the features, ***title_word_count*** and ***text_word_count***. As these names may suggest, they are simply the number of words present within the ***title*** and ***text*** respectively."
   ]
  },
  {
   "cell_type": "code",
   "execution_count": 136,
   "metadata": {},
   "outputs": [
    {
     "data": {
      "text/html": [
       "<div>\n",
       "<style scoped>\n",
       "    .dataframe tbody tr th:only-of-type {\n",
       "        vertical-align: middle;\n",
       "    }\n",
       "\n",
       "    .dataframe tbody tr th {\n",
       "        vertical-align: top;\n",
       "    }\n",
       "\n",
       "    .dataframe thead th {\n",
       "        text-align: right;\n",
       "    }\n",
       "</style>\n",
       "<table border=\"1\" class=\"dataframe\">\n",
       "  <thead>\n",
       "    <tr style=\"text-align: right;\">\n",
       "      <th></th>\n",
       "      <th>Unnamed: 0</th>\n",
       "      <th>title</th>\n",
       "      <th>text</th>\n",
       "      <th>label</th>\n",
       "      <th>title_word_count</th>\n",
       "      <th>text_word_count</th>\n",
       "    </tr>\n",
       "  </thead>\n",
       "  <tbody>\n",
       "    <tr>\n",
       "      <th>0</th>\n",
       "      <td>8476</td>\n",
       "      <td>You Can Smell Hillary’s Fear</td>\n",
       "      <td>Daniel Greenfield, a Shillman Journalism Fello...</td>\n",
       "      <td>FAKE</td>\n",
       "      <td>5</td>\n",
       "      <td>1296</td>\n",
       "    </tr>\n",
       "    <tr>\n",
       "      <th>1</th>\n",
       "      <td>10294</td>\n",
       "      <td>Watch The Exact Moment Paul Ryan Committed Pol...</td>\n",
       "      <td>Google Pinterest Digg Linkedin Reddit Stumbleu...</td>\n",
       "      <td>FAKE</td>\n",
       "      <td>14</td>\n",
       "      <td>446</td>\n",
       "    </tr>\n",
       "    <tr>\n",
       "      <th>2</th>\n",
       "      <td>3608</td>\n",
       "      <td>Kerry to go to Paris in gesture of sympathy</td>\n",
       "      <td>U.S. Secretary of State John F. Kerry said Mon...</td>\n",
       "      <td>REAL</td>\n",
       "      <td>9</td>\n",
       "      <td>431</td>\n",
       "    </tr>\n",
       "    <tr>\n",
       "      <th>3</th>\n",
       "      <td>10142</td>\n",
       "      <td>Bernie supporters on Twitter erupt in anger ag...</td>\n",
       "      <td>— Kaydee King (@KaydeeKing) November 9, 2016 T...</td>\n",
       "      <td>FAKE</td>\n",
       "      <td>15</td>\n",
       "      <td>404</td>\n",
       "    </tr>\n",
       "    <tr>\n",
       "      <th>4</th>\n",
       "      <td>875</td>\n",
       "      <td>The Battle of New York: Why This Primary Matters</td>\n",
       "      <td>It's primary day in New York and front-runners...</td>\n",
       "      <td>REAL</td>\n",
       "      <td>9</td>\n",
       "      <td>317</td>\n",
       "    </tr>\n",
       "  </tbody>\n",
       "</table>\n",
       "</div>"
      ],
      "text/plain": [
       "   Unnamed: 0                                              title  \\\n",
       "0        8476                       You Can Smell Hillary’s Fear   \n",
       "1       10294  Watch The Exact Moment Paul Ryan Committed Pol...   \n",
       "2        3608        Kerry to go to Paris in gesture of sympathy   \n",
       "3       10142  Bernie supporters on Twitter erupt in anger ag...   \n",
       "4         875   The Battle of New York: Why This Primary Matters   \n",
       "\n",
       "                                                text label  title_word_count  \\\n",
       "0  Daniel Greenfield, a Shillman Journalism Fello...  FAKE                 5   \n",
       "1  Google Pinterest Digg Linkedin Reddit Stumbleu...  FAKE                14   \n",
       "2  U.S. Secretary of State John F. Kerry said Mon...  REAL                 9   \n",
       "3  — Kaydee King (@KaydeeKing) November 9, 2016 T...  FAKE                15   \n",
       "4  It's primary day in New York and front-runners...  REAL                 9   \n",
       "\n",
       "   text_word_count  \n",
       "0             1296  \n",
       "1              446  \n",
       "2              431  \n",
       "3              404  \n",
       "4              317  "
      ]
     },
     "metadata": {},
     "output_type": "display_data"
    }
   ],
   "source": [
    "dataset['title_word_count'] = dataset['title'].str.split().apply(len) #from 'title', convert to string, split string to list and apply length to list\n",
    "dataset['text_word_count'] = dataset['text'].str.split().apply(len) #from 'text', convert to string, split string to list and apply length to list\n",
    "\n",
    "display(dataset.head())"
   ]
  },
  {
   "attachments": {},
   "cell_type": "markdown",
   "metadata": {},
   "source": [
    "These new metrics that we have evaluated are now prime subjects to perform some basic exploratory data analysis upon them to discover how each data series is distributed across our whole dataset. For now we shall create histograms for each group of data to discover a distribution for each and evaluate their basic properties, such as their mean and variance. "
   ]
  },
  {
   "cell_type": "code",
   "execution_count": 138,
   "metadata": {},
   "outputs": [
    {
     "name": "stdout",
     "output_type": "stream",
     "text": [
      "Mean of 'title_word_count' data: 10.495876942594355,\n",
      "\n",
      "Variance of 'title_word_count' data: 15.879542150413489.\n",
      "\n",
      "Mean of 'text_word_count' data: 776.3495084046939,\n",
      "\n",
      "Variance of 'text_word_count' data: 732167.4376282074.\n",
      "\n"
     ]
    }
   ],
   "source": [
    "def mean_and_variance(input_dataset,column_label):\n",
    "    data = input_dataset[column_label]\n",
    "    mean = sum(data)/len(data)\n",
    "    variance = np.var(data)\n",
    "    print(f'Mean of \\'{column_label}\\' data: {mean},\\n')\n",
    "    print(f'Variance of \\'{column_label}\\' data: {variance}.\\n')\n",
    "    return mean, variance\n",
    "\n",
    "title_word_count_metrics = mean_and_variance(dataset,'title_word_count')\n",
    "text_word_count_metrics = mean_and_variance(dataset,'text_word_count')"
   ]
  },
  {
   "cell_type": "code",
   "execution_count": 139,
   "metadata": {},
   "outputs": [
    {
     "data": {
      "text/plain": [
       "Text(0, 0.5, 'No. of Datapoints')"
      ]
     },
     "execution_count": 139,
     "metadata": {},
     "output_type": "execute_result"
    },
    {
     "data": {
      "image/png": "[encoded data removed]",
      "text/plain": [
       "<Figure size 640x480 with 1 Axes>"
      ]
     },
     "metadata": {},
     "output_type": "display_data"
    }
   ],
   "source": [
    "dataset['title_word_count'].hist(bins=50) #histogram of bin number equal to 50 from 'title_word_count' data\n",
    "pyplot.title('Histogram of the length of each datapoint\\'s title') #title of histogram\n",
    "pyplot.xlabel('Word Count') #x-axis label\n",
    "pyplot.ylabel('No. of Datapoints') #y-axis label"
   ]
  },
  {
   "cell_type": "code",
   "execution_count": 140,
   "metadata": {},
   "outputs": [
    {
     "data": {
      "text/plain": [
       "Text(0, 0.5, 'No. of Datapoints')"
      ]
     },
     "execution_count": 140,
     "metadata": {},
     "output_type": "execute_result"
    },
    {
     "data": {
      "image/png": "[encoded data removed]",
      "text/plain": [
       "<Figure size 640x480 with 1 Axes>"
      ]
     },
     "metadata": {},
     "output_type": "display_data"
    }
   ],
   "source": [
    "dataset['text_word_count'].hist(bins=100) #histogram of bin number equal to 100 from 'title_word_count' data\n",
    "pyplot.title('Histogram of the length of each datapoint\\'s body of text') #title of histogram\n",
    "pyplot.xlabel('Word Count') #x-axis label\n",
    "pyplot.ylabel('No. of Datapoints') #y-axis label"
   ]
  },
  {
   "attachments": {},
   "cell_type": "markdown",
   "metadata": {},
   "source": [
    "The mean and variance of the ***title_word_count*** data seem relatively normal. This is reinforced when observing the histogram of this data. The distribution peaks around the mean, roughly, and the spread of data seems reasonable, if we exclude the fact that our variable cannot be negative in value. However,we start to see irregularities when observing the metrics for the ***text_word_count*** data. The mean again seems relatively standard when compared with the histogram. However, the variance is extremely high. Obervation on the respective histogram revelas that there exists numerious data point where the number of words in the main body of text of the new article exceed 10,000 words! This will naturally overwhelm the variance value with our mean being relatively so small compared. All the datapoints that exceed this 10,000 word count margin are shown below."
   ]
  },
  {
   "cell_type": "code",
   "execution_count": 141,
   "metadata": {},
   "outputs": [
    {
     "data": {
      "text/html": [
       "<div>\n",
       "<style scoped>\n",
       "    .dataframe tbody tr th:only-of-type {\n",
       "        vertical-align: middle;\n",
       "    }\n",
       "\n",
       "    .dataframe tbody tr th {\n",
       "        vertical-align: top;\n",
       "    }\n",
       "\n",
       "    .dataframe thead th {\n",
       "        text-align: right;\n",
       "    }\n",
       "</style>\n",
       "<table border=\"1\" class=\"dataframe\">\n",
       "  <thead>\n",
       "    <tr style=\"text-align: right;\">\n",
       "      <th></th>\n",
       "      <th>Unnamed: 0</th>\n",
       "      <th>title</th>\n",
       "      <th>text</th>\n",
       "      <th>label</th>\n",
       "      <th>title_word_count</th>\n",
       "      <th>text_word_count</th>\n",
       "    </tr>\n",
       "  </thead>\n",
       "  <tbody>\n",
       "    <tr>\n",
       "      <th>536</th>\n",
       "      <td>9618</td>\n",
       "      <td>President Putin Asks US To Stop Provoking Russia</td>\n",
       "      <td>Here is President Putin’s speech at Valdai Put...</td>\n",
       "      <td>FAKE</td>\n",
       "      <td>8</td>\n",
       "      <td>11662</td>\n",
       "    </tr>\n",
       "    <tr>\n",
       "      <th>1359</th>\n",
       "      <td>5604</td>\n",
       "      <td>Benny Morris’s Untenable Denial of the Ethnic ...</td>\n",
       "      <td>References The Debate \\nIt started when Daniel...</td>\n",
       "      <td>FAKE</td>\n",
       "      <td>10</td>\n",
       "      <td>15199</td>\n",
       "    </tr>\n",
       "    <tr>\n",
       "      <th>3436</th>\n",
       "      <td>5765</td>\n",
       "      <td>Re: It Is Now Mathematically Impossible To Pay...</td>\n",
       "      <td>It Is Now Mathematically Impossible To Pay Off...</td>\n",
       "      <td>FAKE</td>\n",
       "      <td>13</td>\n",
       "      <td>17332</td>\n",
       "    </tr>\n",
       "    <tr>\n",
       "      <th>3685</th>\n",
       "      <td>8441</td>\n",
       "      <td>Re: America Has Become A Lawless Nation – Hill...</td>\n",
       "      <td>America Has Become A Lawless Nation – Hillary ...</td>\n",
       "      <td>FAKE</td>\n",
       "      <td>15</td>\n",
       "      <td>10090</td>\n",
       "    </tr>\n",
       "    <tr>\n",
       "      <th>4733</th>\n",
       "      <td>7910</td>\n",
       "      <td>Re: Why Are So Many People Choosing To Leave T...</td>\n",
       "      <td>Why Are So Many People Choosing To Leave The U...</td>\n",
       "      <td>FAKE</td>\n",
       "      <td>13</td>\n",
       "      <td>20891</td>\n",
       "    </tr>\n",
       "  </tbody>\n",
       "</table>\n",
       "</div>"
      ],
      "text/plain": [
       "      Unnamed: 0                                              title  \\\n",
       "536         9618   President Putin Asks US To Stop Provoking Russia   \n",
       "1359        5604  Benny Morris’s Untenable Denial of the Ethnic ...   \n",
       "3436        5765  Re: It Is Now Mathematically Impossible To Pay...   \n",
       "3685        8441  Re: America Has Become A Lawless Nation – Hill...   \n",
       "4733        7910  Re: Why Are So Many People Choosing To Leave T...   \n",
       "\n",
       "                                                   text label  \\\n",
       "536   Here is President Putin’s speech at Valdai Put...  FAKE   \n",
       "1359  References The Debate \\nIt started when Daniel...  FAKE   \n",
       "3436  It Is Now Mathematically Impossible To Pay Off...  FAKE   \n",
       "3685  America Has Become A Lawless Nation – Hillary ...  FAKE   \n",
       "4733  Why Are So Many People Choosing To Leave The U...  FAKE   \n",
       "\n",
       "      title_word_count  text_word_count  \n",
       "536                  8            11662  \n",
       "1359                10            15199  \n",
       "3436                13            17332  \n",
       "3685                15            10090  \n",
       "4733                13            20891  "
      ]
     },
     "metadata": {},
     "output_type": "display_data"
    }
   ],
   "source": [
    "display(dataset[dataset['text_word_count'] > 10000]) #show all extreme values for 'text_word_count' length"
   ]
  },
  {
   "attachments": {},
   "cell_type": "markdown",
   "metadata": {},
   "source": [
    "From this we can make our first discovery about the dataset. Every data point that exceeds the 10,000 word count is classified as **FAKE**. We can use this observation later whose we have developed our first predictive models to see if they have also observed this trend and used this. An observation like this would work incredibly well in a modelling process such as a *decision tree* model. We could now do something smilar with the ***title_word_count*** now to see if any patterns like this can be discovered. Let us ask if data points with ***title_word_count*** values exceeding 30 are typically classified as **FAKE**."
   ]
  },
  {
   "cell_type": "code",
   "execution_count": 142,
   "metadata": {},
   "outputs": [
    {
     "data": {
      "text/html": [
       "<div>\n",
       "<style scoped>\n",
       "    .dataframe tbody tr th:only-of-type {\n",
       "        vertical-align: middle;\n",
       "    }\n",
       "\n",
       "    .dataframe tbody tr th {\n",
       "        vertical-align: top;\n",
       "    }\n",
       "\n",
       "    .dataframe thead th {\n",
       "        text-align: right;\n",
       "    }\n",
       "</style>\n",
       "<table border=\"1\" class=\"dataframe\">\n",
       "  <thead>\n",
       "    <tr style=\"text-align: right;\">\n",
       "      <th></th>\n",
       "      <th>Unnamed: 0</th>\n",
       "      <th>title</th>\n",
       "      <th>text</th>\n",
       "      <th>label</th>\n",
       "      <th>title_word_count</th>\n",
       "      <th>text_word_count</th>\n",
       "    </tr>\n",
       "  </thead>\n",
       "  <tbody>\n",
       "    <tr>\n",
       "      <th>261</th>\n",
       "      <td>7892</td>\n",
       "      <td>Comment on Breaking: CDC Blocks Testimony of T...</td>\n",
       "      <td>Have you heard of Dr. William Thompson? If y...</td>\n",
       "      <td>FAKE</td>\n",
       "      <td>35</td>\n",
       "      <td>919</td>\n",
       "    </tr>\n",
       "    <tr>\n",
       "      <th>436</th>\n",
       "      <td>6329</td>\n",
       "      <td>Muslims regularly use “Inshallah” (“God Willin...</td>\n",
       "      <td>BNI Store Nov 5 2016 Muslims regularly use “In...</td>\n",
       "      <td>FAKE</td>\n",
       "      <td>30</td>\n",
       "      <td>665</td>\n",
       "    </tr>\n",
       "    <tr>\n",
       "      <th>1041</th>\n",
       "      <td>5939</td>\n",
       "      <td>Comment on The Science is “Overwhelming At Thi...</td>\n",
       "      <td>This ordinance is a big step forwards by cre...</td>\n",
       "      <td>FAKE</td>\n",
       "      <td>34</td>\n",
       "      <td>2513</td>\n",
       "    </tr>\n",
       "    <tr>\n",
       "      <th>1073</th>\n",
       "      <td>7560</td>\n",
       "      <td>Comment on ‘Voting Is Rigged &amp; Used To Pacify ...</td>\n",
       "      <td>Share on Facebook Share on Twitter “This is th...</td>\n",
       "      <td>FAKE</td>\n",
       "      <td>38</td>\n",
       "      <td>1360</td>\n",
       "    </tr>\n",
       "    <tr>\n",
       "      <th>1208</th>\n",
       "      <td>5420</td>\n",
       "      <td>12 and 63-minute videos: Donald Trump connects...</td>\n",
       "      <td>Posted on November 7, 2016 by Carl Herman \\nJo...</td>\n",
       "      <td>FAKE</td>\n",
       "      <td>35</td>\n",
       "      <td>1421</td>\n",
       "    </tr>\n",
       "    <tr>\n",
       "      <th>1562</th>\n",
       "      <td>7769</td>\n",
       "      <td>Comment on Canadian Air Force Pilot Snaps A Pi...</td>\n",
       "      <td>Share on Facebook Share on Twitter “If it does...</td>\n",
       "      <td>FAKE</td>\n",
       "      <td>32</td>\n",
       "      <td>1077</td>\n",
       "    </tr>\n",
       "    <tr>\n",
       "      <th>1580</th>\n",
       "      <td>6031</td>\n",
       "      <td>Comment on Hillary Clinton failed to disclose ...</td>\n",
       "      <td>DCG | 2 Comments \\nRules are for little peop...</td>\n",
       "      <td>FAKE</td>\n",
       "      <td>42</td>\n",
       "      <td>730</td>\n",
       "    </tr>\n",
       "    <tr>\n",
       "      <th>1663</th>\n",
       "      <td>9064</td>\n",
       "      <td>Life: If You Love Enamel Pins, You’ll Love Thi...</td>\n",
       "      <td>Email If you can’t get enough enamel pins, the...</td>\n",
       "      <td>FAKE</td>\n",
       "      <td>53</td>\n",
       "      <td>375</td>\n",
       "    </tr>\n",
       "    <tr>\n",
       "      <th>2763</th>\n",
       "      <td>8341</td>\n",
       "      <td>Comment on Shocking Insinuation About Carl Sag...</td>\n",
       "      <td>Share on Facebook Share on Twitter A few years...</td>\n",
       "      <td>FAKE</td>\n",
       "      <td>32</td>\n",
       "      <td>3009</td>\n",
       "    </tr>\n",
       "    <tr>\n",
       "      <th>3607</th>\n",
       "      <td>6321</td>\n",
       "      <td>Queen Elizabeth II owns every dolphin in Brita...</td>\n",
       "      <td>Email \\nQueen Elizabeth II is not like you and...</td>\n",
       "      <td>FAKE</td>\n",
       "      <td>30</td>\n",
       "      <td>2887</td>\n",
       "    </tr>\n",
       "    <tr>\n",
       "      <th>4203</th>\n",
       "      <td>6636</td>\n",
       "      <td>Comment on 10 More Beautiful Images That Remin...</td>\n",
       "      <td>Share on Facebook Share on Twitter It seems so...</td>\n",
       "      <td>FAKE</td>\n",
       "      <td>41</td>\n",
       "      <td>666</td>\n",
       "    </tr>\n",
       "    <tr>\n",
       "      <th>4374</th>\n",
       "      <td>8463</td>\n",
       "      <td>Comment on Are We About To See One Of The Grea...</td>\n",
       "      <td>Share on Facebook Share on Twitter I believe w...</td>\n",
       "      <td>FAKE</td>\n",
       "      <td>30</td>\n",
       "      <td>683</td>\n",
       "    </tr>\n",
       "    <tr>\n",
       "      <th>5260</th>\n",
       "      <td>5729</td>\n",
       "      <td>Comment on 500 Year Old Map Was Discovered Tha...</td>\n",
       "      <td>Share on Facebook Share on Twitter Human histo...</td>\n",
       "      <td>FAKE</td>\n",
       "      <td>30</td>\n",
       "      <td>1173</td>\n",
       "    </tr>\n",
       "    <tr>\n",
       "      <th>5874</th>\n",
       "      <td>8542</td>\n",
       "      <td>Comment on Invention Secrecy At All-Time High:...</td>\n",
       "      <td>Share on Facebook Share on Twitter Government ...</td>\n",
       "      <td>FAKE</td>\n",
       "      <td>34</td>\n",
       "      <td>1448</td>\n",
       "    </tr>\n",
       "    <tr>\n",
       "      <th>5910</th>\n",
       "      <td>7772</td>\n",
       "      <td>Comment on 5 Corporations Own The U.S. Media –...</td>\n",
       "      <td>From the day we are born into this world, we...</td>\n",
       "      <td>FAKE</td>\n",
       "      <td>35</td>\n",
       "      <td>4182</td>\n",
       "    </tr>\n",
       "  </tbody>\n",
       "</table>\n",
       "</div>"
      ],
      "text/plain": [
       "      Unnamed: 0                                              title  \\\n",
       "261         7892  Comment on Breaking: CDC Blocks Testimony of T...   \n",
       "436         6329  Muslims regularly use “Inshallah” (“God Willin...   \n",
       "1041        5939  Comment on The Science is “Overwhelming At Thi...   \n",
       "1073        7560  Comment on ‘Voting Is Rigged & Used To Pacify ...   \n",
       "1208        5420  12 and 63-minute videos: Donald Trump connects...   \n",
       "1562        7769  Comment on Canadian Air Force Pilot Snaps A Pi...   \n",
       "1580        6031  Comment on Hillary Clinton failed to disclose ...   \n",
       "1663        9064  Life: If You Love Enamel Pins, You’ll Love Thi...   \n",
       "2763        8341  Comment on Shocking Insinuation About Carl Sag...   \n",
       "3607        6321  Queen Elizabeth II owns every dolphin in Brita...   \n",
       "4203        6636  Comment on 10 More Beautiful Images That Remin...   \n",
       "4374        8463  Comment on Are We About To See One Of The Grea...   \n",
       "5260        5729  Comment on 500 Year Old Map Was Discovered Tha...   \n",
       "5874        8542  Comment on Invention Secrecy At All-Time High:...   \n",
       "5910        7772  Comment on 5 Corporations Own The U.S. Media –...   \n",
       "\n",
       "                                                   text label  \\\n",
       "261     Have you heard of Dr. William Thompson? If y...  FAKE   \n",
       "436   BNI Store Nov 5 2016 Muslims regularly use “In...  FAKE   \n",
       "1041    This ordinance is a big step forwards by cre...  FAKE   \n",
       "1073  Share on Facebook Share on Twitter “This is th...  FAKE   \n",
       "1208  Posted on November 7, 2016 by Carl Herman \\nJo...  FAKE   \n",
       "1562  Share on Facebook Share on Twitter “If it does...  FAKE   \n",
       "1580    DCG | 2 Comments \\nRules are for little peop...  FAKE   \n",
       "1663  Email If you can’t get enough enamel pins, the...  FAKE   \n",
       "2763  Share on Facebook Share on Twitter A few years...  FAKE   \n",
       "3607  Email \\nQueen Elizabeth II is not like you and...  FAKE   \n",
       "4203  Share on Facebook Share on Twitter It seems so...  FAKE   \n",
       "4374  Share on Facebook Share on Twitter I believe w...  FAKE   \n",
       "5260  Share on Facebook Share on Twitter Human histo...  FAKE   \n",
       "5874  Share on Facebook Share on Twitter Government ...  FAKE   \n",
       "5910    From the day we are born into this world, we...  FAKE   \n",
       "\n",
       "      title_word_count  text_word_count  \n",
       "261                 35              919  \n",
       "436                 30              665  \n",
       "1041                34             2513  \n",
       "1073                38             1360  \n",
       "1208                35             1421  \n",
       "1562                32             1077  \n",
       "1580                42              730  \n",
       "1663                53              375  \n",
       "2763                32             3009  \n",
       "3607                30             2887  \n",
       "4203                41              666  \n",
       "4374                30              683  \n",
       "5260                30             1173  \n",
       "5874                34             1448  \n",
       "5910                35             4182  "
      ]
     },
     "metadata": {},
     "output_type": "display_data"
    }
   ],
   "source": [
    "display(dataset[dataset['title_word_count'] >= 30])"
   ]
  },
  {
   "attachments": {},
   "cell_type": "markdown",
   "metadata": {},
   "source": [
    "As we can see, all 15 data points that have title lengths that exceed or are equal to 30 words are all classified as **FAKE**. This can also be used to determine the success of any models that we evaluate in the future. These finds give us promise that correlations exist within the dataset to allow us to create a reliable prodictive model. Now that we have these findings, we are presented with another question that must be asked; Is there a need for the ***title*** and ***text*** data now? Have we extracted all infomation that may prove usful for our model? No. There still exists relavent information within these string data values. For instance, two of the joint most numerius data values associated with the *title* column are 'OnPolitics | 's politics blog' and 'Michael Moore Owes Me $4.99'. When we display all their respective datapoint out we observe that even though they have the same amount of ***title_word_count*** value, their ***label*** values are mutual exclusive from one another."
   ]
  },
  {
   "cell_type": "code",
   "execution_count": 231,
   "metadata": {},
   "outputs": [
    {
     "data": {
      "text/plain": [
       "<matplotlib.legend.Legend at 0x18b60b89690>"
      ]
     },
     "execution_count": 231,
     "metadata": {},
     "output_type": "execute_result"
    },
    {
     "data": {
      "image/png": "[encoded data removed]",
      "text/plain": [
       "<Figure size 640x480 with 1 Axes>"
      ]
     },
     "metadata": {},
     "output_type": "display_data"
    }
   ],
   "source": [
    "colour = {'REAL': 'blue', 'FAKE': 'red'}\n",
    "pyplot.scatter(dataset['title_word_count'],np.log2(dataset['text_word_count']+1), c = dataset['label'].map(colour), s=0.4, marker='.')\n",
    "pyplot.legend(['FAKE','REAL'])"
   ]
  },
  {
   "attachments": {},
   "cell_type": "markdown",
   "metadata": {},
   "source": [
    "As we can see from the scatter plot above, some logic is present regarding determining **FAKE** and **REAL** news. Outlier datapoints where ***title_Word_count*** and ***text_word_count*** is either too high or too low are typically labels as **FAKE**. However, a closed form structural review for all datapoints still eludes us. **REAL** and **FAKE** datapoints cluster around eachother, so we can conclude that evaluating just the word count for the tile and the main text of each news article is not enough to reliable predict when the datapoint is within this cluster. So we shall now implement a new metric for our data. We shall implement a sentiment analysis model to out datapoints to get a metric of how possitive or negative an article is. Perhaps a negative article is more likely to be fake than real."
   ]
  },
  {
   "cell_type": "code",
   "execution_count": 243,
   "metadata": {},
   "outputs": [],
   "source": [
    "tokenizer = AutoTokenizer.from_pretrained('nlptown/bert-base-multilingual-uncased-sentiment') #tokenizer converts text into series of numerical values\n",
    "sentiment_model = AutoModelForSequenceClassification.from_pretrained('nlptown/bert-base-multilingual-uncased-sentiment') #load pretrained sentiment model \n",
    "\n",
    "def sentiment_score(text): #define function to get sentiment score from model\n",
    "    tokens = tokenizer.encode(text,return_tensors='pt') #tokenizer encodes given text into numerical values, returned in a pytorch tensor\n",
    "    output = sentiment_model(tokens) #feed tokenizer data into model\n",
    "    return int(torch.argmax(output.logits))+1 #convert output array into score\n",
    "\n",
    "dataset['title_sentiment_score'] = dataset['title'].apply(lambda x: sentiment_score(x)) #\n",
    "dataset['text_sentiment_score'] = dataset['text'].apply(lambda x: sentiment_score(x[:512])) #sentiment model is limited with how many tokens it can process at one time, specifically it is 512, so using only 512st words in text for evaluating\n",
    "\n",
    "display(dataset.head())"
   ]
  },
  {
   "attachments": {},
   "cell_type": "markdown",
   "metadata": {},
   "source": [
    "This sentiment model scores using a scale from 1 to 5, with 1 corresponding with a negative sentiment and 5 being a positive sentiment. However, we have had to make a concession regarding the ***text*** data when evaluating it's sentiment score. Due to limitations with the sentiment model we are using, only the first 512 tokens of text can be used to assess the whole text's sentiment score. This may lead to sentiment scores not reflecting the true score of a body of text, but typically the beginning of an article sets a specific tone for the remainder of the text. This could be in the for or a intorduction which goes over what will be discussed or if its simply stating the purpose of the text. So for our analysis, we will have to assume the following: **The sentiment score for the text for each datapoint remains constant through the text itself**. We will perform this sentiment analysis on both the ***title*** and ***text***. The motivation behind this is that correlation may exist between the ***label*** and the difference in sentiment score between the title of an article and the main body of text, as a form of *click-baiting*. Furthermore, we want to see if our hypothesis is true that negatively sentimented articles are more likely to be ***FAKE***. We could also assess whether extreme sendiment scores on either side of neutral (1 or 5) correlate with labelling articles fake or not, to play to a specific audiance's emotions about a specific issue to get more view."
   ]
  },
  {
   "cell_type": "code",
   "execution_count": null,
   "metadata": {},
   "outputs": [],
   "source": [
    "dataset['title_sentiment_score'].hist(bins=1)\n",
    "pyplot.title('Distribution of title sentiment score')\n",
    "pyplot.xlabel('Sentiment Score')\n",
    "pyplot.ylabel('Frequency of score')"
   ]
  }
 ],
 "metadata": {
  "kernelspec": {
   "display_name": "fakenews_env",
   "language": "python",
   "name": "python3"
  },
  "language_info": {
   "codemirror_mode": {
    "name": "ipython",
    "version": 3
   },
   "file_extension": ".py",
   "mimetype": "text/x-python",
   "name": "python",
   "nbconvert_exporter": "python",
   "pygments_lexer": "ipython3",
   "version": "3.10.8"
  },
  "orig_nbformat": 4,
  "vscode": {
   "interpreter": {
    "hash": "45976fe2f9f26a3a5840d6ec53334990fd8080c6b79102b23c04952805cd8662"
   }
  }
 },
 "nbformat": 4,
 "nbformat_minor": 2
}
